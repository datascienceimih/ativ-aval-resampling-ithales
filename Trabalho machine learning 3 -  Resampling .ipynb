{
 "cells": [
  {
   "cell_type": "markdown",
   "metadata": {},
   "source": [
    "# Machine Learning\n",
    "## Trabalho 3\n",
    "### Igor Thales dos Santos\n",
    "#### Resampling"
   ]
  },
  {
   "cell_type": "markdown",
   "metadata": {},
   "source": [
    "### Ex 5A"
   ]
  },
  {
   "cell_type": "code",
   "execution_count": 5,
   "metadata": {},
   "outputs": [],
   "source": [
    "install.packages(\"ISLR\")"
   ]
  },
  {
   "cell_type": "code",
   "execution_count": 6,
   "metadata": {},
   "outputs": [
    {
     "name": "stderr",
     "output_type": "stream",
     "text": [
      "Installing package into ‘/srv/rlibs’\n",
      "(as ‘lib’ is unspecified)\n"
     ]
    },
    {
     "data": {
      "text/plain": [
       " default    student       balance           income     \n",
       " No :9667   No :7056   Min.   :   0.0   Min.   :  772  \n",
       " Yes: 333   Yes:2944   1st Qu.: 481.7   1st Qu.:21340  \n",
       "                       Median : 823.6   Median :34553  \n",
       "                       Mean   : 835.4   Mean   :33517  \n",
       "                       3rd Qu.:1166.3   3rd Qu.:43808  \n",
       "                       Max.   :2654.3   Max.   :73554  "
      ]
     },
     "metadata": {},
     "output_type": "display_data"
    },
    {
     "name": "stderr",
     "output_type": "stream",
     "text": [
      "The following objects are masked from Default (pos = 3):\n",
      "\n",
      "    balance, default, income, student\n",
      "\n"
     ]
    }
   ],
   "source": [
    "library(ISLR)\n",
    "summary(Default)\n",
    "attach(Default)"
   ]
  },
  {
   "cell_type": "code",
   "execution_count": 7,
   "metadata": {},
   "outputs": [],
   "source": [
    "set.seed(1)\n",
    "glm.fit = glm(default ~ income + balance, data = Default, family = binomial)"
   ]
  },
  {
   "cell_type": "markdown",
   "metadata": {},
   "source": [
    "#  Ex 5B"
   ]
  },
  {
   "cell_type": "code",
   "execution_count": 71,
   "metadata": {},
   "outputs": [
    {
     "data": {
      "text/html": [
       "0.0282"
      ],
      "text/latex": [
       "0.0282"
      ],
      "text/markdown": [
       "0.0282"
      ],
      "text/plain": [
       "[1] 0.0282"
      ]
     },
     "metadata": {},
     "output_type": "display_data"
    }
   ],
   "source": [
    "ex5b = function() {\n",
    "\n",
    "    train = sample(dim(Default)[1], dim(Default)[1]/2)\n",
    "\n",
    "    glm.fit = glm(default ~ income + balance, data = Default, family = binomial, \n",
    "        subset = train)\n",
    "\n",
    "    glm.pred = rep(\"No\", dim(Default)[1]/2)\n",
    "    glm.probs = predict(glm.fit, Default[-train, ], type = \"response\")\n",
    "    glm.pred[glm.probs > 0.5] = \"Yes\"\n",
    "\n",
    "    return(mean(glm.pred != Default[-train, ]$default))\n",
    "}\n",
    "ex5b()"
   ]
  },
  {
   "cell_type": "code",
   "execution_count": 56,
   "metadata": {},
   "outputs": [],
   "source": [
    "## 2.82% teste de erro"
   ]
  },
  {
   "cell_type": "markdown",
   "metadata": {},
   "source": [
    "# Ex 5C"
   ]
  },
  {
   "cell_type": "code",
   "execution_count": 58,
   "metadata": {},
   "outputs": [
    {
     "data": {
      "text/html": [
       "0.026"
      ],
      "text/latex": [
       "0.026"
      ],
      "text/markdown": [
       "0.026"
      ],
      "text/plain": [
       "[1] 0.026"
      ]
     },
     "metadata": {},
     "output_type": "display_data"
    }
   ],
   "source": [
    "ex5b()"
   ]
  },
  {
   "cell_type": "code",
   "execution_count": 59,
   "metadata": {},
   "outputs": [
    {
     "data": {
      "text/html": [
       "0.0262"
      ],
      "text/latex": [
       "0.0262"
      ],
      "text/markdown": [
       "0.0262"
      ],
      "text/plain": [
       "[1] 0.0262"
      ]
     },
     "metadata": {},
     "output_type": "display_data"
    }
   ],
   "source": [
    "ex5b()"
   ]
  },
  {
   "cell_type": "code",
   "execution_count": 60,
   "metadata": {},
   "outputs": [
    {
     "data": {
      "text/html": [
       "0.0254"
      ],
      "text/latex": [
       "0.0254"
      ],
      "text/markdown": [
       "0.0254"
      ],
      "text/plain": [
       "[1] 0.0254"
      ]
     },
     "metadata": {},
     "output_type": "display_data"
    }
   ],
   "source": [
    "ex5b()"
   ]
  },
  {
   "cell_type": "code",
   "execution_count": 61,
   "metadata": {},
   "outputs": [],
   "source": [
    "## Aparenta ter aproximadamente 2.6% de teste de taxa de erro."
   ]
  },
  {
   "cell_type": "markdown",
   "metadata": {},
   "source": [
    "# Ex 5D"
   ]
  },
  {
   "cell_type": "code",
   "execution_count": 12,
   "metadata": {},
   "outputs": [
    {
     "data": {
      "text/html": [
       "0.0264"
      ],
      "text/latex": [
       "0.0264"
      ],
      "text/markdown": [
       "0.0264"
      ],
      "text/plain": [
       "[1] 0.0264"
      ]
     },
     "metadata": {},
     "output_type": "display_data"
    }
   ],
   "source": [
    "train = sample(dim(Default)[1], dim(Default)[1]/2)\n",
    "glm.fit = glm(default ~ income + balance + student, data = Default, family = binomial, \n",
    "    subset = train)\n",
    "glm.pred = rep(\"No\", dim(Default)[1]/2)\n",
    "glm.probs = predict(glm.fit, Default[-train, ], type = \"response\")\n",
    "glm.pred[glm.probs > 0.5] = \"Yes\"\n",
    "mean(glm.pred != Default[-train, ]$default)"
   ]
  },
  {
   "cell_type": "code",
   "execution_count": 62,
   "metadata": {},
   "outputs": [],
   "source": [
    "## 2.64% teste de taxa de erro com variável dummy em student"
   ]
  },
  {
   "cell_type": "markdown",
   "metadata": {},
   "source": [
    "# Ex 6A"
   ]
  },
  {
   "cell_type": "code",
   "execution_count": 13,
   "metadata": {},
   "outputs": [
    {
     "data": {
      "text/plain": [
       "\n",
       "Call:\n",
       "glm(formula = default ~ income + balance, family = binomial, \n",
       "    data = Default)\n",
       "\n",
       "Deviance Residuals: \n",
       "    Min       1Q   Median       3Q      Max  \n",
       "-2.4725  -0.1444  -0.0574  -0.0211   3.7245  \n",
       "\n",
       "Coefficients:\n",
       "              Estimate Std. Error z value Pr(>|z|)    \n",
       "(Intercept) -1.154e+01  4.348e-01 -26.545  < 2e-16 ***\n",
       "income       2.081e-05  4.985e-06   4.174 2.99e-05 ***\n",
       "balance      5.647e-03  2.274e-04  24.836  < 2e-16 ***\n",
       "---\n",
       "Signif. codes:  0 ‘***’ 0.001 ‘**’ 0.01 ‘*’ 0.05 ‘.’ 0.1 ‘ ’ 1\n",
       "\n",
       "(Dispersion parameter for binomial family taken to be 1)\n",
       "\n",
       "    Null deviance: 2920.6  on 9999  degrees of freedom\n",
       "Residual deviance: 1579.0  on 9997  degrees of freedom\n",
       "AIC: 1585\n",
       "\n",
       "Number of Fisher Scoring iterations: 8\n"
      ]
     },
     "metadata": {},
     "output_type": "display_data"
    }
   ],
   "source": [
    "set.seed(1)\n",
    "glm.fit = glm(default ~ income + balance, data = Default, family = binomial)\n",
    "summary(glm.fit)"
   ]
  },
  {
   "cell_type": "markdown",
   "metadata": {},
   "source": [
    "# Ex 6B"
   ]
  },
  {
   "cell_type": "code",
   "execution_count": 14,
   "metadata": {},
   "outputs": [],
   "source": [
    "boot.fn = function(data, index) return(coef(glm(default ~ income + balance, \n",
    "    data = data, family = binomial, subset = index)))"
   ]
  },
  {
   "cell_type": "markdown",
   "metadata": {},
   "source": [
    "# Ex 6C"
   ]
  },
  {
   "cell_type": "code",
   "execution_count": 15,
   "metadata": {},
   "outputs": [
    {
     "data": {
      "text/plain": [
       "\n",
       "ORDINARY NONPARAMETRIC BOOTSTRAP\n",
       "\n",
       "\n",
       "Call:\n",
       "boot(data = Default, statistic = boot.fn, R = 50)\n",
       "\n",
       "\n",
       "Bootstrap Statistics :\n",
       "         original        bias     std. error\n",
       "t1* -1.154047e+01  1.181200e-01 4.202402e-01\n",
       "t2*  2.080898e-05 -5.466926e-08 4.542214e-06\n",
       "t3*  5.647103e-03 -6.974834e-05 2.282819e-04"
      ]
     },
     "metadata": {},
     "output_type": "display_data"
    }
   ],
   "source": [
    "library(boot)\n",
    "boot(Default, boot.fn, 50)"
   ]
  },
  {
   "cell_type": "markdown",
   "metadata": {},
   "source": [
    "# Ex 6D"
   ]
  },
  {
   "cell_type": "code",
   "execution_count": 63,
   "metadata": {},
   "outputs": [],
   "source": [
    "## Respostas parecidas no segundo e no terceiro digitos."
   ]
  },
  {
   "cell_type": "markdown",
   "metadata": {},
   "source": [
    "# Ex 8A"
   ]
  },
  {
   "cell_type": "code",
   "execution_count": 24,
   "metadata": {},
   "outputs": [],
   "source": [
    "set.seed(1)\n",
    "y = rnorm(100)\n",
    "x = rnorm(100)\n",
    "y = x - 2 * x^2 + rnorm(100)"
   ]
  },
  {
   "cell_type": "markdown",
   "metadata": {},
   "source": [
    "# Ex 8B"
   ]
  },
  {
   "cell_type": "code",
   "execution_count": 25,
   "metadata": {},
   "outputs": [
    {
     "data": {
      "image/png": "[encoded data removed]",
      "text/plain": [
       "plot without title"
      ]
     },
     "metadata": {},
     "output_type": "display_data"
    }
   ],
   "source": [
    "plot(x, y)"
   ]
  },
  {
   "cell_type": "code",
   "execution_count": 64,
   "metadata": {},
   "outputs": [],
   "source": [
    "## Plot quadrático, aonde x varia de -2 a 2 e Y de -8 a 2"
   ]
  },
  {
   "cell_type": "markdown",
   "metadata": {},
   "source": [
    "# Ex 8C"
   ]
  },
  {
   "cell_type": "code",
   "execution_count": 66,
   "metadata": {},
   "outputs": [
    {
     "data": {
      "text/html": [
       "<ol class=list-inline>\n",
       "\t<li>5.89097855988842</li>\n",
       "\t<li>5.88881215196093</li>\n",
       "</ol>\n"
      ],
      "text/latex": [
       "\\begin{enumerate*}\n",
       "\\item 5.89097855988842\n",
       "\\item 5.88881215196093\n",
       "\\end{enumerate*}\n"
      ],
      "text/markdown": [
       "1. 5.89097855988842\n",
       "2. 5.88881215196093\n",
       "\n",
       "\n"
      ],
      "text/plain": [
       "[1] 5.890979 5.888812"
      ]
     },
     "metadata": {},
     "output_type": "display_data"
    }
   ],
   "source": [
    "library(boot)\n",
    "Data = data.frame(x, y)\n",
    "set.seed(1)\n",
    "\n",
    "glm.fit = glm(y ~ x)\n",
    "cv.glm(Data, glm.fit)$delta"
   ]
  },
  {
   "cell_type": "code",
   "execution_count": 65,
   "metadata": {},
   "outputs": [
    {
     "data": {
      "text/html": [
       "<ol class=list-inline>\n",
       "\t<li>1.0865955642745</li>\n",
       "\t<li>1.08632580328877</li>\n",
       "</ol>\n"
      ],
      "text/latex": [
       "\\begin{enumerate*}\n",
       "\\item 1.0865955642745\n",
       "\\item 1.08632580328877\n",
       "\\end{enumerate*}\n"
      ],
      "text/markdown": [
       "1. 1.0865955642745\n",
       "2. 1.08632580328877\n",
       "\n",
       "\n"
      ],
      "text/plain": [
       "[1] 1.086596 1.086326"
      ]
     },
     "metadata": {},
     "output_type": "display_data"
    }
   ],
   "source": [
    "glm.fit = glm(y ~ poly(x, 2))\n",
    "cv.glm(Data, glm.fit)$delta"
   ]
  },
  {
   "cell_type": "code",
   "execution_count": 67,
   "metadata": {},
   "outputs": [
    {
     "data": {
      "text/html": [
       "<ol class=list-inline>\n",
       "\t<li>1.10258509387339</li>\n",
       "\t<li>1.10222658385953</li>\n",
       "</ol>\n"
      ],
      "text/latex": [
       "\\begin{enumerate*}\n",
       "\\item 1.10258509387339\n",
       "\\item 1.10222658385953\n",
       "\\end{enumerate*}\n"
      ],
      "text/markdown": [
       "1. 1.10258509387339\n",
       "2. 1.10222658385953\n",
       "\n",
       "\n"
      ],
      "text/plain": [
       "[1] 1.102585 1.102227"
      ]
     },
     "metadata": {},
     "output_type": "display_data"
    }
   ],
   "source": [
    "glm.fit = glm(y ~ poly(x, 3))\n",
    "cv.glm(Data, glm.fit)$delta"
   ]
  },
  {
   "cell_type": "code",
   "execution_count": 68,
   "metadata": {},
   "outputs": [
    {
     "data": {
      "text/html": [
       "<ol class=list-inline>\n",
       "\t<li>1.11477226814507</li>\n",
       "\t<li>1.11433406148513</li>\n",
       "</ol>\n"
      ],
      "text/latex": [
       "\\begin{enumerate*}\n",
       "\\item 1.11477226814507\n",
       "\\item 1.11433406148513\n",
       "\\end{enumerate*}\n"
      ],
      "text/markdown": [
       "1. 1.11477226814507\n",
       "2. 1.11433406148513\n",
       "\n",
       "\n"
      ],
      "text/plain": [
       "[1] 1.114772 1.114334"
      ]
     },
     "metadata": {},
     "output_type": "display_data"
    }
   ],
   "source": [
    "glm.fit = glm(y ~ poly(x, 4))\n",
    "cv.glm(Data, glm.fit)$delta"
   ]
  },
  {
   "cell_type": "markdown",
   "metadata": {},
   "source": [
    "# Ex 8D"
   ]
  },
  {
   "cell_type": "code",
   "execution_count": 30,
   "metadata": {},
   "outputs": [
    {
     "data": {
      "text/html": [
       "<ol class=list-inline>\n",
       "\t<li>5.89097855988843</li>\n",
       "\t<li>5.88881215196093</li>\n",
       "</ol>\n"
      ],
      "text/latex": [
       "\\begin{enumerate*}\n",
       "\\item 5.89097855988843\n",
       "\\item 5.88881215196093\n",
       "\\end{enumerate*}\n"
      ],
      "text/markdown": [
       "1. 5.89097855988843\n",
       "2. 5.88881215196093\n",
       "\n",
       "\n"
      ],
      "text/plain": [
       "[1] 5.890979 5.888812"
      ]
     },
     "metadata": {},
     "output_type": "display_data"
    }
   ],
   "source": [
    "set.seed(10)\n",
    "\n",
    "glm.fit = glm(y ~ x)\n",
    "cv.glm(Data, glm.fit)$delta"
   ]
  },
  {
   "cell_type": "code",
   "execution_count": 31,
   "metadata": {},
   "outputs": [
    {
     "data": {
      "text/html": [
       "<ol class=list-inline>\n",
       "\t<li>1.0865955642745</li>\n",
       "\t<li>1.08632580328877</li>\n",
       "</ol>\n"
      ],
      "text/latex": [
       "\\begin{enumerate*}\n",
       "\\item 1.0865955642745\n",
       "\\item 1.08632580328877\n",
       "\\end{enumerate*}\n"
      ],
      "text/markdown": [
       "1. 1.0865955642745\n",
       "2. 1.08632580328877\n",
       "\n",
       "\n"
      ],
      "text/plain": [
       "[1] 1.086596 1.086326"
      ]
     },
     "metadata": {},
     "output_type": "display_data"
    }
   ],
   "source": [
    "glm.fit = glm(y ~ poly(x, 2))\n",
    "cv.glm(Data, glm.fit)$delta"
   ]
  },
  {
   "cell_type": "code",
   "execution_count": 32,
   "metadata": {},
   "outputs": [
    {
     "data": {
      "text/html": [
       "<ol class=list-inline>\n",
       "\t<li>1.10258509387339</li>\n",
       "\t<li>1.10222658385953</li>\n",
       "</ol>\n"
      ],
      "text/latex": [
       "\\begin{enumerate*}\n",
       "\\item 1.10258509387339\n",
       "\\item 1.10222658385953\n",
       "\\end{enumerate*}\n"
      ],
      "text/markdown": [
       "1. 1.10258509387339\n",
       "2. 1.10222658385953\n",
       "\n",
       "\n"
      ],
      "text/plain": [
       "[1] 1.102585 1.102227"
      ]
     },
     "metadata": {},
     "output_type": "display_data"
    }
   ],
   "source": [
    "glm.fit = glm(y ~ poly(x, 3))\n",
    "cv.glm(Data, glm.fit)$delta"
   ]
  },
  {
   "cell_type": "code",
   "execution_count": 33,
   "metadata": {},
   "outputs": [
    {
     "data": {
      "text/html": [
       "<ol class=list-inline>\n",
       "\t<li>1.11477226814507</li>\n",
       "\t<li>1.11433406148513</li>\n",
       "</ol>\n"
      ],
      "text/latex": [
       "\\begin{enumerate*}\n",
       "\\item 1.11477226814507\n",
       "\\item 1.11433406148513\n",
       "\\end{enumerate*}\n"
      ],
      "text/markdown": [
       "1. 1.11477226814507\n",
       "2. 1.11433406148513\n",
       "\n",
       "\n"
      ],
      "text/plain": [
       "[1] 1.114772 1.114334"
      ]
     },
     "metadata": {},
     "output_type": "display_data"
    }
   ],
   "source": [
    "glm.fit = glm(y ~ poly(x, 4))\n",
    "cv.glm(Data, glm.fit)$delta"
   ]
  },
  {
   "cell_type": "code",
   "execution_count": null,
   "metadata": {},
   "outputs": [],
   "source": [
    "## Exatamente igual, porque LOOCV vai ser sempre igual enquanto avaliar n tipos de uma observação"
   ]
  },
  {
   "cell_type": "markdown",
   "metadata": {},
   "source": [
    "#  Ex 8E"
   ]
  },
  {
   "cell_type": "code",
   "execution_count": 72,
   "metadata": {},
   "outputs": [],
   "source": [
    "## A polinomial quadrádica tem o menor teste de erro LOOCV. "
   ]
  },
  {
   "cell_type": "markdown",
   "metadata": {},
   "source": [
    "# Ex 8F"
   ]
  },
  {
   "cell_type": "code",
   "execution_count": 35,
   "metadata": {},
   "outputs": [
    {
     "data": {
      "text/plain": [
       "\n",
       "Call:\n",
       "glm(formula = y ~ poly(x, 4))\n",
       "\n",
       "Deviance Residuals: \n",
       "    Min       1Q   Median       3Q      Max  \n",
       "-2.8914  -0.5244   0.0749   0.5932   2.7796  \n",
       "\n",
       "Coefficients:\n",
       "            Estimate Std. Error t value Pr(>|t|)    \n",
       "(Intercept)  -1.8277     0.1041 -17.549   <2e-16 ***\n",
       "poly(x, 4)1   2.3164     1.0415   2.224   0.0285 *  \n",
       "poly(x, 4)2 -21.0586     1.0415 -20.220   <2e-16 ***\n",
       "poly(x, 4)3  -0.3048     1.0415  -0.293   0.7704    \n",
       "poly(x, 4)4  -0.4926     1.0415  -0.473   0.6373    \n",
       "---\n",
       "Signif. codes:  0 ‘***’ 0.001 ‘**’ 0.01 ‘*’ 0.05 ‘.’ 0.1 ‘ ’ 1\n",
       "\n",
       "(Dispersion parameter for gaussian family taken to be 1.084654)\n",
       "\n",
       "    Null deviance: 552.21  on 99  degrees of freedom\n",
       "Residual deviance: 103.04  on 95  degrees of freedom\n",
       "AIC: 298.78\n",
       "\n",
       "Number of Fisher Scoring iterations: 2\n"
      ]
     },
     "metadata": {},
     "output_type": "display_data"
    }
   ],
   "source": [
    "summary(glm.fit)"
   ]
  },
  {
   "cell_type": "code",
   "execution_count": 73,
   "metadata": {},
   "outputs": [],
   "source": [
    "## p-valor mostra sifnificancia estatística linear e quadratica dos termos, que concorda com os resultados CV"
   ]
  },
  {
   "cell_type": "markdown",
   "metadata": {},
   "source": [
    "# Ex 9A"
   ]
  },
  {
   "cell_type": "code",
   "execution_count": 37,
   "metadata": {},
   "outputs": [
    {
     "data": {
      "text/plain": [
       "      crim                zn             indus            chas        \n",
       " Min.   : 0.00632   Min.   :  0.00   Min.   : 0.46   Min.   :0.00000  \n",
       " 1st Qu.: 0.08204   1st Qu.:  0.00   1st Qu.: 5.19   1st Qu.:0.00000  \n",
       " Median : 0.25651   Median :  0.00   Median : 9.69   Median :0.00000  \n",
       " Mean   : 3.61352   Mean   : 11.36   Mean   :11.14   Mean   :0.06917  \n",
       " 3rd Qu.: 3.67708   3rd Qu.: 12.50   3rd Qu.:18.10   3rd Qu.:0.00000  \n",
       " Max.   :88.97620   Max.   :100.00   Max.   :27.74   Max.   :1.00000  \n",
       "      nox               rm             age              dis        \n",
       " Min.   :0.3850   Min.   :3.561   Min.   :  2.90   Min.   : 1.130  \n",
       " 1st Qu.:0.4490   1st Qu.:5.886   1st Qu.: 45.02   1st Qu.: 2.100  \n",
       " Median :0.5380   Median :6.208   Median : 77.50   Median : 3.207  \n",
       " Mean   :0.5547   Mean   :6.285   Mean   : 68.57   Mean   : 3.795  \n",
       " 3rd Qu.:0.6240   3rd Qu.:6.623   3rd Qu.: 94.08   3rd Qu.: 5.188  \n",
       " Max.   :0.8710   Max.   :8.780   Max.   :100.00   Max.   :12.127  \n",
       "      rad              tax           ptratio          black       \n",
       " Min.   : 1.000   Min.   :187.0   Min.   :12.60   Min.   :  0.32  \n",
       " 1st Qu.: 4.000   1st Qu.:279.0   1st Qu.:17.40   1st Qu.:375.38  \n",
       " Median : 5.000   Median :330.0   Median :19.05   Median :391.44  \n",
       " Mean   : 9.549   Mean   :408.2   Mean   :18.46   Mean   :356.67  \n",
       " 3rd Qu.:24.000   3rd Qu.:666.0   3rd Qu.:20.20   3rd Qu.:396.23  \n",
       " Max.   :24.000   Max.   :711.0   Max.   :22.00   Max.   :396.90  \n",
       "     lstat            medv      \n",
       " Min.   : 1.73   Min.   : 5.00  \n",
       " 1st Qu.: 6.95   1st Qu.:17.02  \n",
       " Median :11.36   Median :21.20  \n",
       " Mean   :12.65   Mean   :22.53  \n",
       " 3rd Qu.:16.95   3rd Qu.:25.00  \n",
       " Max.   :37.97   Max.   :50.00  "
      ]
     },
     "metadata": {},
     "output_type": "display_data"
    }
   ],
   "source": [
    "library(MASS)\n",
    "summary(Boston)\n",
    "set.seed(1)\n",
    "attach(Boston)"
   ]
  },
  {
   "cell_type": "code",
   "execution_count": 38,
   "metadata": {},
   "outputs": [
    {
     "data": {
      "text/html": [
       "22.5328063241107"
      ],
      "text/latex": [
       "22.5328063241107"
      ],
      "text/markdown": [
       "22.5328063241107"
      ],
      "text/plain": [
       "[1] 22.53281"
      ]
     },
     "metadata": {},
     "output_type": "display_data"
    }
   ],
   "source": [
    "medv.mean = mean(medv)\n",
    "medv.mean"
   ]
  },
  {
   "cell_type": "markdown",
   "metadata": {},
   "source": [
    "#  EX 9B"
   ]
  },
  {
   "cell_type": "code",
   "execution_count": 39,
   "metadata": {},
   "outputs": [
    {
     "data": {
      "text/html": [
       "0.408861147497535"
      ],
      "text/latex": [
       "0.408861147497535"
      ],
      "text/markdown": [
       "0.408861147497535"
      ],
      "text/plain": [
       "[1] 0.4088611"
      ]
     },
     "metadata": {},
     "output_type": "display_data"
    }
   ],
   "source": [
    "medv.err = sd(medv)/sqrt(length(medv))\n",
    "medv.err"
   ]
  },
  {
   "cell_type": "markdown",
   "metadata": {},
   "source": [
    "# Ex 9C"
   ]
  },
  {
   "cell_type": "code",
   "execution_count": 40,
   "metadata": {},
   "outputs": [
    {
     "data": {
      "text/plain": [
       "\n",
       "ORDINARY NONPARAMETRIC BOOTSTRAP\n",
       "\n",
       "\n",
       "Call:\n",
       "boot(data = medv, statistic = boot.fn, R = 1000)\n",
       "\n",
       "\n",
       "Bootstrap Statistics :\n",
       "    original      bias    std. error\n",
       "t1* 22.53281 0.008517589   0.4119374"
      ]
     },
     "metadata": {},
     "output_type": "display_data"
    }
   ],
   "source": [
    "boot.fn = function(data, index) return(mean(data[index]))\n",
    "library(boot)\n",
    "bstrap = boot(medv, boot.fn, 1000)\n",
    "bstrap"
   ]
  },
  {
   "cell_type": "code",
   "execution_count": 74,
   "metadata": {},
   "outputs": [],
   "source": [
    "## Dois digitos similares (0.4119 e 0.4089)"
   ]
  },
  {
   "cell_type": "markdown",
   "metadata": {},
   "source": [
    "# Ex 9D"
   ]
  },
  {
   "cell_type": "code",
   "execution_count": 41,
   "metadata": {},
   "outputs": [
    {
     "data": {
      "text/plain": [
       "\n",
       "\tOne Sample t-test\n",
       "\n",
       "data:  medv\n",
       "t = 55.111, df = 505, p-value < 2.2e-16\n",
       "alternative hypothesis: true mean is not equal to 0\n",
       "95 percent confidence interval:\n",
       " 21.72953 23.33608\n",
       "sample estimates:\n",
       "mean of x \n",
       " 22.53281 \n"
      ]
     },
     "metadata": {},
     "output_type": "display_data"
    }
   ],
   "source": [
    "t.test(medv)"
   ]
  },
  {
   "cell_type": "code",
   "execution_count": 42,
   "metadata": {},
   "outputs": [
    {
     "data": {
      "text/html": [
       "<ol class=list-inline>\n",
       "\t<li>21.7090063241107</li>\n",
       "\t<li>23.3566063241107</li>\n",
       "</ol>\n"
      ],
      "text/latex": [
       "\\begin{enumerate*}\n",
       "\\item 21.7090063241107\n",
       "\\item 23.3566063241107\n",
       "\\end{enumerate*}\n"
      ],
      "text/markdown": [
       "1. 21.7090063241107\n",
       "2. 23.3566063241107\n",
       "\n",
       "\n"
      ],
      "text/plain": [
       "[1] 21.70901 23.35661"
      ]
     },
     "metadata": {},
     "output_type": "display_data"
    }
   ],
   "source": [
    "c(bstrap$t0 - 2 * 0.4119, bstrap$t0 + 2 * 0.4119)"
   ]
  },
  {
   "cell_type": "code",
   "execution_count": 75,
   "metadata": {},
   "outputs": [],
   "source": [
    "## Bootstrap estima apenas 0.02 para longe da estimativa t.test "
   ]
  },
  {
   "cell_type": "markdown",
   "metadata": {},
   "source": [
    "# Ex 9E"
   ]
  },
  {
   "cell_type": "code",
   "execution_count": 43,
   "metadata": {},
   "outputs": [
    {
     "data": {
      "text/html": [
       "21.2"
      ],
      "text/latex": [
       "21.2"
      ],
      "text/markdown": [
       "21.2"
      ],
      "text/plain": [
       "[1] 21.2"
      ]
     },
     "metadata": {},
     "output_type": "display_data"
    }
   ],
   "source": [
    "medv.med = median(medv)\n",
    "medv.med"
   ]
  },
  {
   "cell_type": "markdown",
   "metadata": {},
   "source": [
    "# Ex 9F"
   ]
  },
  {
   "cell_type": "code",
   "execution_count": 44,
   "metadata": {},
   "outputs": [
    {
     "data": {
      "text/plain": [
       "\n",
       "ORDINARY NONPARAMETRIC BOOTSTRAP\n",
       "\n",
       "\n",
       "Call:\n",
       "boot(data = medv, statistic = boot.fn, R = 1000)\n",
       "\n",
       "\n",
       "Bootstrap Statistics :\n",
       "    original  bias    std. error\n",
       "t1*     21.2 -0.0098   0.3874004"
      ]
     },
     "metadata": {},
     "output_type": "display_data"
    }
   ],
   "source": [
    "boot.fn = function(data, index) return(median(data[index]))\n",
    "boot(medv, boot.fn, 1000)"
   ]
  },
  {
   "cell_type": "code",
   "execution_count": 76,
   "metadata": {},
   "outputs": [],
   "source": [
    "## Mediana de 21.2 com SE de 0.380. "
   ]
  },
  {
   "cell_type": "markdown",
   "metadata": {},
   "source": [
    "# Ex 9G\n"
   ]
  },
  {
   "cell_type": "code",
   "execution_count": 45,
   "metadata": {},
   "outputs": [
    {
     "data": {
      "text/html": [
       "<strong>10%:</strong> 12.75"
      ],
      "text/latex": [
       "\\textbf{10\\textbackslash{}\\%:} 12.75"
      ],
      "text/markdown": [
       "**10%:** 12.75"
      ],
      "text/plain": [
       "  10% \n",
       "12.75 "
      ]
     },
     "metadata": {},
     "output_type": "display_data"
    }
   ],
   "source": [
    "medv.tenth = quantile(medv, c(0.1))\n",
    "medv.tenth"
   ]
  },
  {
   "cell_type": "markdown",
   "metadata": {},
   "source": [
    "# Ex 9H"
   ]
  },
  {
   "cell_type": "code",
   "execution_count": 46,
   "metadata": {},
   "outputs": [
    {
     "data": {
      "text/plain": [
       "\n",
       "ORDINARY NONPARAMETRIC BOOTSTRAP\n",
       "\n",
       "\n",
       "Call:\n",
       "boot(data = medv, statistic = boot.fn, R = 1000)\n",
       "\n",
       "\n",
       "Bootstrap Statistics :\n",
       "    original  bias    std. error\n",
       "t1*    12.75 0.00515   0.5113487"
      ]
     },
     "metadata": {},
     "output_type": "display_data"
    }
   ],
   "source": [
    "boot.fn = function(data, index) return(quantile(data[index], c(0.1)))\n",
    "boot(medv, boot.fn, 1000)"
   ]
  },
  {
   "cell_type": "code",
   "execution_count": 77,
   "metadata": {},
   "outputs": [],
   "source": [
    "## décimo percentual de 12.75 com SE de 0.511. "
   ]
  },
  {
   "cell_type": "code",
   "execution_count": null,
   "metadata": {},
   "outputs": [],
   "source": []
  }
 ],
 "metadata": {
  "kernelspec": {
   "display_name": "R",
   "language": "R",
   "name": "ir"
  },
  "language_info": {
   "codemirror_mode": "r",
   "file_extension": ".r",
   "mimetype": "text/x-r-source",
   "name": "R",
   "pygments_lexer": "r",
   "version": "3.4.4"
  }
 },
 "nbformat": 4,
 "nbformat_minor": 2
}
